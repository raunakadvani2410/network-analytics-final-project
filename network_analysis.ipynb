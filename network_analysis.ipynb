{
 "cells": [
  {
   "cell_type": "markdown",
   "metadata": {},
   "source": [
    "# Network Analysis"
   ]
  },
  {
   "cell_type": "markdown",
   "metadata": {},
   "source": [
    "## Import Packages"
   ]
  },
  {
   "cell_type": "code",
   "execution_count": null,
   "metadata": {},
   "outputs": [],
   "source": [
    "import pandas as pd\n",
    "import numpy as np\n",
    "import networkx as nx\n",
    "import os\n",
    "import seaborn as sns\n",
    "import matplotlib.pyplot as plt\n",
    "from itertools import combinations\n",
    "import ast\n",
    "from community import community_louvain\n",
    "import collections\n",
    "from collections import Counter"
   ]
  },
  {
   "cell_type": "markdown",
   "metadata": {},
   "source": [
    "## Reading in DataFrame and creating Graph object"
   ]
  },
  {
   "cell_type": "code",
   "execution_count": 2,
   "metadata": {},
   "outputs": [],
   "source": [
    "df = pd.read_csv('./data/clean/combined.csv')"
   ]
  },
  {
   "cell_type": "code",
   "execution_count": 3,
   "metadata": {},
   "outputs": [
    {
     "data": {
      "text/plain": [
       "Unnamed: 0       int64\n",
       "Unnamed: 0.1     int64\n",
       "authors         object\n",
       "paper           object\n",
       "dtype: object"
      ]
     },
     "execution_count": 3,
     "metadata": {},
     "output_type": "execute_result"
    }
   ],
   "source": [
    "df.dtypes"
   ]
  },
  {
   "cell_type": "code",
   "execution_count": 17,
   "metadata": {},
   "outputs": [],
   "source": [
    "del df['Unnamed: 0']\n",
    "del df['Unnamed: 0.1']"
   ]
  },
  {
   "cell_type": "code",
   "execution_count": 28,
   "metadata": {},
   "outputs": [],
   "source": [
    "df['authors'] = df['authors'].apply(ast.literal_eval)"
   ]
  },
  {
   "cell_type": "code",
   "execution_count": 31,
   "metadata": {},
   "outputs": [
    {
     "data": {
      "text/plain": [
       "list"
      ]
     },
     "execution_count": 31,
     "metadata": {},
     "output_type": "execute_result"
    }
   ],
   "source": [
    "type(df['authors'][1]) # sanity check"
   ]
  },
  {
   "cell_type": "code",
   "execution_count": 19,
   "metadata": {},
   "outputs": [
    {
     "data": {
      "text/html": [
       "<div>\n",
       "<style scoped>\n",
       "    .dataframe tbody tr th:only-of-type {\n",
       "        vertical-align: middle;\n",
       "    }\n",
       "\n",
       "    .dataframe tbody tr th {\n",
       "        vertical-align: top;\n",
       "    }\n",
       "\n",
       "    .dataframe thead th {\n",
       "        text-align: right;\n",
       "    }\n",
       "</style>\n",
       "<table border=\"1\" class=\"dataframe\">\n",
       "  <thead>\n",
       "    <tr style=\"text-align: right;\">\n",
       "      <th></th>\n",
       "      <th>authors</th>\n",
       "      <th>paper</th>\n",
       "    </tr>\n",
       "  </thead>\n",
       "  <tbody>\n",
       "    <tr>\n",
       "      <th>0</th>\n",
       "      <td>['Qiming Chen', 'Umeshwar Dayal']</td>\n",
       "      <td>Multi-Agent Cooperative Transactions for E-Com...</td>\n",
       "    </tr>\n",
       "    <tr>\n",
       "      <th>1</th>\n",
       "      <td>['Emmanuel Cecchet', 'Renaud Lachaize', 'Takou...</td>\n",
       "      <td>Evaluation of a Group Communication Middleware...</td>\n",
       "    </tr>\n",
       "    <tr>\n",
       "      <th>2</th>\n",
       "      <td>['Robert Grob', 'Stefanie Kethers', 'Stephan J...</td>\n",
       "      <td>Towards CIS in Quality Management - Integratio...</td>\n",
       "    </tr>\n",
       "    <tr>\n",
       "      <th>3</th>\n",
       "      <td>['Evaggelia Pitoura', 'George Samaras', 'Panos...</td>\n",
       "      <td>An Evaluation of the Java-Based Approaches to ...</td>\n",
       "    </tr>\n",
       "    <tr>\n",
       "      <th>4</th>\n",
       "      <td>['Arne Koschel', 'Günter von Bültzingsloewen',...</td>\n",
       "      <td>Poster on Accept Heterogeneity: An Event Monit...</td>\n",
       "    </tr>\n",
       "  </tbody>\n",
       "</table>\n",
       "</div>"
      ],
      "text/plain": [
       "                                             authors   \n",
       "0                  ['Qiming Chen', 'Umeshwar Dayal']  \\\n",
       "1  ['Emmanuel Cecchet', 'Renaud Lachaize', 'Takou...   \n",
       "2  ['Robert Grob', 'Stefanie Kethers', 'Stephan J...   \n",
       "3  ['Evaggelia Pitoura', 'George Samaras', 'Panos...   \n",
       "4  ['Arne Koschel', 'Günter von Bültzingsloewen',...   \n",
       "\n",
       "                                               paper  \n",
       "0  Multi-Agent Cooperative Transactions for E-Com...  \n",
       "1  Evaluation of a Group Communication Middleware...  \n",
       "2  Towards CIS in Quality Management - Integratio...  \n",
       "3  An Evaluation of the Java-Based Approaches to ...  \n",
       "4  Poster on Accept Heterogeneity: An Event Monit...  "
      ]
     },
     "execution_count": 19,
     "metadata": {},
     "output_type": "execute_result"
    }
   ],
   "source": [
    "df.head()"
   ]
  },
  {
   "cell_type": "code",
   "execution_count": 46,
   "metadata": {},
   "outputs": [],
   "source": [
    "df = df[~df['authors'].apply(lambda x: any(not author.strip() for author in x))]"
   ]
  },
  {
   "cell_type": "code",
   "execution_count": 47,
   "metadata": {},
   "outputs": [],
   "source": [
    "G = nx.Graph()"
   ]
  },
  {
   "cell_type": "code",
   "execution_count": 48,
   "metadata": {},
   "outputs": [],
   "source": [
    "for index, row in df.iterrows():\n",
    "    authors = row['authors']\n",
    "    for pair in combinations(authors, 2):\n",
    "        if G.has_edge(*pair):\n",
    "            G[pair[0]][pair[1]]['weight'] += 1\n",
    "        else:\n",
    "            G.add_edge(*pair, weight=1)\n"
   ]
  },
  {
   "cell_type": "code",
   "execution_count": 62,
   "metadata": {},
   "outputs": [],
   "source": [
    "nx.write_graphml(G, './data/clean/graph.graphml')"
   ]
  },
  {
   "cell_type": "code",
   "execution_count": 63,
   "metadata": {},
   "outputs": [],
   "source": [
    "del num_empty_rows, df, degrees, degreeCount, degree_sequence, degree_centrality, deg, cnt"
   ]
  },
  {
   "cell_type": "code",
   "execution_count": 49,
   "metadata": {},
   "outputs": [
    {
     "name": "stdout",
     "output_type": "stream",
     "text": [
      "Node 1: Makoto Takizawa 0001\n",
      "Node 2: Tomoya Enokido\n"
     ]
    }
   ],
   "source": [
    "max_edge = max(G.edges(data=True), key=lambda x: x[2]['weight'])\n",
    "node1, node2, data = max_edge\n",
    " \n",
    "print(f\"Node 1: {node1}\")\n",
    "print(f\"Node 2: {node2}\")"
   ]
  },
  {
   "cell_type": "code",
   "execution_count": 53,
   "metadata": {},
   "outputs": [
    {
     "data": {
      "text/plain": [
       "('Makoto Takizawa 0001', 'Tomoya Enokido', {'weight': 456})"
      ]
     },
     "execution_count": 53,
     "metadata": {},
     "output_type": "execute_result"
    }
   ],
   "source": [
    "max_edge"
   ]
  },
  {
   "cell_type": "code",
   "execution_count": 58,
   "metadata": {},
   "outputs": [
    {
     "data": {
      "image/png": "[encoded data removed]",
      "text/plain": [
       "<Figure size 640x480 with 1 Axes>"
      ]
     },
     "metadata": {},
     "output_type": "display_data"
    }
   ],
   "source": [
    "degrees = [G.degree(n) for n in G.nodes()]\n",
    "plt.hist(degrees)\n",
    "plt.xlim(0,7)\n",
    "plt.show()"
   ]
  },
  {
   "cell_type": "code",
   "execution_count": null,
   "metadata": {},
   "outputs": [],
   "source": [
    "degree_centrality = nx.degree_centrality(G)\n",
    "betweenness_centrality = nx.betweenness_centrality(G)\n",
    "print(degree_centrality)\n",
    "print(betweenness_centrality)"
   ]
  },
  {
   "cell_type": "code",
   "execution_count": 61,
   "metadata": {},
   "outputs": [
    {
     "data": {
      "image/png": "[encoded data removed]",
      "text/plain": [
       "<Figure size 800x600 with 1 Axes>"
      ]
     },
     "metadata": {},
     "output_type": "display_data"
    }
   ],
   "source": [
    "degree_sequence = sorted([d for n, d in G.degree()], reverse=True)\n",
    "degreeCount = collections.Counter(degree_sequence)\n",
    "deg, cnt = zip(*degreeCount.items())\n",
    "\n",
    "plt.figure(figsize=(8,6))\n",
    "plt.scatter(deg, cnt, color='b')\n",
    "plt.xscale('log')\n",
    "plt.yscale('log')\n",
    "plt.title(\"Degree Histogram (Log-Log plot)\")\n",
    "plt.ylabel(\"Count\")\n",
    "plt.xlabel(\"Degree\")\n",
    "plt.show()\n"
   ]
  },
  {
   "cell_type": "markdown",
   "metadata": {},
   "source": [
    "## Extract Connected Components"
   ]
  },
  {
   "cell_type": "code",
   "execution_count": 67,
   "metadata": {},
   "outputs": [
    {
     "name": "stdout",
     "output_type": "stream",
     "text": [
      "Component 1 has 2000682 nodes\n",
      "Component 2 has 53 nodes\n",
      "Component 3 has 49 nodes\n",
      "Component 4 has 45 nodes\n"
     ]
    }
   ],
   "source": [
    "connected_components = nx.connected_components(G)\n",
    "\n",
    "# sort the components\n",
    "sorted_components = sorted(connected_components, key=len, reverse=True)\n",
    "\n",
    "# print out the largest components\n",
    "for i in range(min(4, len(sorted_components))):\n",
    "    print(\"Component\", i+1, \"has\", len(sorted_components[i]), \"nodes\")"
   ]
  },
  {
   "cell_type": "code",
   "execution_count": 68,
   "metadata": {},
   "outputs": [],
   "source": [
    "largest_cc = max(nx.connected_components(G), key=len)\n",
    "largest_cc_graph = G.subgraph(largest_cc) # create graph for largest connected component"
   ]
  },
  {
   "cell_type": "code",
   "execution_count": null,
   "metadata": {},
   "outputs": [],
   "source": [
    "degree_centrality = nx.degree_centrality(largest_cc_graph)\n",
    "betweenness_centrality = nx.betweenness_centrality(largest_cc_graph )"
   ]
  },
  {
   "cell_type": "code",
   "execution_count": null,
   "metadata": {},
   "outputs": [],
   "source": [
    "# compute the best partition\n",
    "partiiton = community_louvain.best_partition(largest_cc_graph)\n",
    "# count the number of nodes in each community\n",
    "community_counts = Counter(partition.values())\n",
    "\n",
    "# print the number of nodes in each community\n",
    "for community, count in community_counts.items():\n",
    "    print(f\"Community {community}: {count} nodes\")"
   ]
  },
  {
   "cell_type": "code",
   "execution_count": null,
   "metadata": {},
   "outputs": [],
   "source": []
  }
 ],
 "metadata": {
  "kernelspec": {
   "display_name": "anly645",
   "language": "python",
   "name": "python3"
  },
  "language_info": {
   "codemirror_mode": {
    "name": "ipython",
    "version": 3
   },
   "file_extension": ".py",
   "mimetype": "text/x-python",
   "name": "python",
   "nbconvert_exporter": "python",
   "pygments_lexer": "ipython3",
   "version": "3.10.4"
  },
  "orig_nbformat": 4
 },
 "nbformat": 4,
 "nbformat_minor": 2
}
